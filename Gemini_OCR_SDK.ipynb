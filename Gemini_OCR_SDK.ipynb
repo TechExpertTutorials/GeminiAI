{
 "cells": [
  {
   "cell_type": "markdown",
   "metadata": {},
   "source": [
    "\n",
    "conda install -c conda-forge google-generativeai\n",
    "\n"
   ]
  },
  {
   "cell_type": "code",
   "execution_count": null,
   "metadata": {},
   "outputs": [],
   "source": [
    "\n",
    "import google.generativeai as genai\n",
    "import os\n",
    "import base64"
   ]
  },
  {
   "cell_type": "code",
   "execution_count": null,
   "metadata": {},
   "outputs": [],
   "source": [
    "# Replace 'your_api_key' with your actual Google API key\n",
    "os.environ['GEMINI_AI_API_KEY']\n",
    "API_KEY = os.environ['GEMINI_AI_API_KEY']\n",
    "genai.configure(api_key=API_KEY)"
   ]
  },
  {
   "cell_type": "code",
   "execution_count": null,
   "metadata": {},
   "outputs": [],
   "source": [
    "\n",
    "def prep_image(image_path):\n",
    "    # Upload the file and print a confirmation.\n",
    "    sample_file = genai.upload_file(path=image_path,\n",
    "                                display_name=\"Diagram\")\n",
    "    print(f\"Uploaded file '{sample_file.display_name}' as: {sample_file.uri}\")\n",
    "    file = genai.get_file(name=sample_file.name)\n",
    "    print(f\"Retrieved file '{file.display_name}' as: {sample_file.uri}\")\n",
    "    return sample_file"
   ]
  },
  {
   "cell_type": "code",
   "execution_count": null,
   "metadata": {},
   "outputs": [],
   "source": [
    "\n",
    "def extract_text_from_image(image_path, prompt):\n",
    "    # Choose a Gemini model.\n",
    "    model = genai.GenerativeModel(model_name=\"gemini-1.5-pro\")\n",
    "    # Prompt the model with text and the previously uploaded image.\n",
    "    response = model.generate_content([image_path, prompt])\n",
    "    return response.text"
   ]
  },
  {
   "cell_type": "code",
   "execution_count": null,
   "metadata": {},
   "outputs": [],
   "source": [
    "sample_file = prep_image('jetpack.jpg') \n",
    "text = extract_text_from_image(sample_file, \"Extract the text in the image verbatim\")\n",
    "if text:\n",
    "    print(\"Extracted Text:\")\n",
    "    print(text)\n",
    "else:\n",
    "    print(\"Failed to extract text from the image.\")"
   ]
  },
  {
   "cell_type": "code",
   "execution_count": null,
   "metadata": {},
   "outputs": [],
   "source": [
    "sample_file = prep_image('jetpack2.jpg') \n",
    "text = extract_text_from_image(sample_file, \"Analyze the given diagram and carefully extract the information. Include the cost of the item\")\n",
    "if text:\n",
    "    print(\"Interpreted Image:\")\n",
    "    print(text)\n",
    "else:\n",
    "    print(\"Failed to extract text from the image.\")"
   ]
  }
 ],
 "metadata": {
  "language_info": {
   "name": "python"
  }
 },
 "nbformat": 4,
 "nbformat_minor": 2
}
